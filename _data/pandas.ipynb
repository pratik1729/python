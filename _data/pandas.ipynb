{
 "cells": [
  {
   "cell_type": "code",
   "execution_count": 2,
   "metadata": {},
   "outputs": [
    {
     "data": {
      "text/plain": [
       "'1.3.4'"
      ]
     },
     "execution_count": 2,
     "metadata": {},
     "output_type": "execute_result"
    }
   ],
   "source": [
    "import pandas as pd\n",
    "pd.__version__\n"
   ]
  },
  {
   "cell_type": "markdown",
   "metadata": {},
   "source": [
    "# Series\n",
    "\n",
    "# Create series"
   ]
  },
  {
   "cell_type": "code",
   "execution_count": null,
   "metadata": {},
   "outputs": [],
   "source": [
    "# create series object from list\n",
    "\n",
    "months = [\"Jan\", \"Feb\", \"March\", \"April\"]\n",
    "pd.Series(months)\n",
    "\n",
    "# dtype: object is internal lingo for strings in pandas\n",
    "# first column is index column, it can be set to anything, default is 0,1,2..\n"
   ]
  },
  {
   "cell_type": "code",
   "execution_count": null,
   "metadata": {},
   "outputs": [],
   "source": [
    "# create series object from dictionary\n",
    "\n",
    "location = {\"city\": \"Tokyo\", \"country\": \"Japan\",\n",
    "            \"country\": \"India\", \"planet\": \"Earth\"}  # this has identical keys\n",
    "print(location)  # only one of the identical keys is stored\n",
    "pd.Series(location)\n",
    "\n",
    "# index column is dictionary keys\n",
    "# Series object is combination list+dictionary\n",
    "# Series object can have multiple identical indices, but a dictionary cannot have identical keys\n"
   ]
  },
  {
   "cell_type": "code",
   "execution_count": null,
   "metadata": {},
   "outputs": [],
   "source": [
    "# Parameters and arguments\n",
    "key = [\"city\", \"country\", \"planet\", \"country\"]\n",
    "value = [\"Tokyo\", \"Japan\", \"Earth\", \"India\"]\n",
    "\n",
    "# duplicate index allowed, certain operations are not allowed if duplicates exist\n",
    "pd.Series(data=value, index=key)\n"
   ]
  },
  {
   "cell_type": "markdown",
   "metadata": {},
   "source": [
    "# Series attributes"
   ]
  },
  {
   "cell_type": "code",
   "execution_count": null,
   "metadata": {},
   "outputs": [],
   "source": [
    "# Series attributes\n",
    "# atrributes do not modify the object, only view or give some information back\n",
    "location = {\"city\": \"Tokyo\", \"country\": \"Japan\",\n",
    "            \"planet\": \"Earth\"}  # this has identical keys\n",
    "s = pd.Series(location)\n",
    "\n",
    "#  attributes\n",
    "s.values  # Return Series as ndarray or ndarray-like depending on the dtype.\n",
    "s.index  # return RangeIndex object\n",
    "s.dtype  # string, shows datatype\n",
    "s.is_unique  # True, if all values are unique\n",
    "s.ndim  # int, number of dimensions, =1 for Series object\n",
    "s.shape  # tuple, Gives number of (rows,columns), for a Series it gives (rows,)\n",
    "s.size  # int, gives number of elements, including NULL values\n",
    "s.name  # hashable, name of the column in a csv or dataframe, can be modified s.name=abc\n"
   ]
  },
  {
   "cell_type": "markdown",
   "metadata": {},
   "source": [
    "# CSV file"
   ]
  },
  {
   "cell_type": "code",
   "execution_count": null,
   "metadata": {},
   "outputs": [],
   "source": [
    "# squeeze=True returns a series object\n",
    "# header=None if csv does not have header row, by default header=0, first row is column headers\n",
    "# index_col must be included in usecols\n",
    "\n",
    "pd.read_csv(\"pokemon.csv\", usecols=[\"Pokemon\"],\n",
    "            squeeze=True, sep=',', header=0)\n",
    "pd.read_csv(\"pokemon.csv\", usecols=[\n",
    "            \"Pokemon\", \"HP\"], index_col=\"Pokemon\", squeeze=True)\n"
   ]
  },
  {
   "cell_type": "markdown",
   "metadata": {},
   "source": [
    "# Series methods"
   ]
  },
  {
   "cell_type": "code",
   "execution_count": 4,
   "metadata": {},
   "outputs": [
    {
     "data": {
      "text/plain": [
       "0     2.2\n",
       "3     3.0\n",
       "2     3.9\n",
       "5     4.4\n",
       "1     5.5\n",
       "4     6.6\n",
       "6    10.0\n",
       "7    10.8\n",
       "dtype: float64"
      ]
     },
     "execution_count": 4,
     "metadata": {},
     "output_type": "execute_result"
    }
   ],
   "source": [
    "nums = [1.2, 4.5, 2.9, 2, 5.6, 3.4, 9, 9.8]\n",
    "s = pd.Series(nums)\n",
    "\n",
    "# s = pd.read_csv(\"pokemon.csv\",usecols=[\"Pokemon\"],squeeze=True)\n",
    "\n",
    "s = s.head(10)\n",
    "s = s.tail(10)\n",
    "# returns new Series, does not modify the original one. Indices are preserved\n",
    "s.sort_values(ascending=True)\n",
    "# does not return new Series, overwrites the original one. Indices are preserved. Results in shuffling\n",
    "s.sort_values(ascending=True, inplace=True)\n",
    "s.sort_index(ascending=True)  # acts on indicex\n",
    "\n",
    "s.value_counts()  # Series - return count of each value in descending order\n",
    "s.apply(lambda x: x+1)  # apply a function to each element of the Series s\n",
    "\n",
    "s.map(s)  # map values of one series to index of other series\n"
   ]
  },
  {
   "cell_type": "markdown",
   "metadata": {},
   "source": [
    "## Math methods on Series"
   ]
  },
  {
   "cell_type": "code",
   "execution_count": null,
   "metadata": {},
   "outputs": [],
   "source": [
    "nums = [1.2, 4.5, 2.9, 2, 5.6, 3.4, 9, 9.8]\n",
    "s = pd.Series(nums)\n",
    "\n",
    "s.count()  # return all valid elements, excludes NULL, NaN etc, len method returns everything\n",
    "s.sum()\n",
    "s.mean()\n",
    "s.product()\n",
    "s.std()\n",
    "s.min()\n",
    "s.max()\n",
    "s.median()\n",
    "s.mode()  # returns a new Series if there is a tie\n",
    "s.describe()  # returns Series, gives summary of statistics\n",
    "s.idxmax()  # index label of max value, first label is returned\n",
    "s.idxmin()  # index label of min value, first label is returned\n"
   ]
  },
  {
   "cell_type": "code",
   "execution_count": null,
   "metadata": {},
   "outputs": [],
   "source": [
    "# Series with builtin functions\n",
    "nums = [1.2, 4.5, 2.9]\n",
    "s = pd.Series(nums)\n",
    "\n",
    "list(s)  # convert series to list\n",
    "dict(s)  # convert series to dict, index col becomes the key\n",
    "max(s)\n",
    "min(s)\n"
   ]
  },
  {
   "cell_type": "markdown",
   "metadata": {},
   "source": [
    "# Indexing and Slicing"
   ]
  },
  {
   "cell_type": "code",
   "execution_count": null,
   "metadata": {},
   "outputs": [],
   "source": [
    "# optimizations - its good idea to sort index first before extraction,\n",
    "pokemon = pd.read_csv(\"pokemon.csv\", usecols=[\"Pokemon\"], squeeze=True)\n",
    "pokemon[1]\n",
    "pokemon[[100, 200, 300]]  # retutns new Series object\n",
    "pokemon[50:101]\n",
    "pokemon[:50]\n",
    "pokemon[-30:-10]\n",
    "\n",
    "# these methods can be used if the index is label\n",
    "s = pd.read_csv(\"pokemon.csv\", usecols=[\n",
    "                \"Pokemon\", \"HP\"], index_col=\"Pokemon\", squeeze=True)\n",
    "s[\"Venusaur\":\"Vulpix\"]  # the last label:value is ALSO included\n",
    "\n",
    "# get method provides fall back option with default= parameter\n",
    "s.get(\"Venusaur\", default=\"Bad name\")\n"
   ]
  },
  {
   "cell_type": "code",
   "execution_count": null,
   "metadata": {},
   "outputs": [],
   "source": []
  },
  {
   "cell_type": "code",
   "execution_count": null,
   "metadata": {},
   "outputs": [],
   "source": []
  },
  {
   "cell_type": "code",
   "execution_count": null,
   "metadata": {},
   "outputs": [],
   "source": []
  }
 ],
 "metadata": {
  "interpreter": {
   "hash": "916dbcbb3f70747c44a77c7bcd40155683ae19c65e1c03b4aa3499c5328201f1"
  },
  "kernelspec": {
   "display_name": "Python 3.8.10 64-bit",
   "language": "python",
   "name": "python3"
  },
  "language_info": {
   "codemirror_mode": {
    "name": "ipython",
    "version": 3
   },
   "file_extension": ".py",
   "mimetype": "text/x-python",
   "name": "python",
   "nbconvert_exporter": "python",
   "pygments_lexer": "ipython3",
   "version": "3.8.10"
  },
  "orig_nbformat": 4
 },
 "nbformat": 4,
 "nbformat_minor": 2
}
