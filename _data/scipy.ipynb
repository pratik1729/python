{
 "cells": [
  {
   "cell_type": "code",
   "execution_count": null,
   "metadata": {},
   "outputs": [],
   "source": [
    "import scipy.stats as st\n",
    "\n",
    "# other imports\n",
    "import numpy as np\n",
    "import matplotlib.pyplot as plt\n"
   ]
  },
  {
   "cell_type": "markdown",
   "metadata": {},
   "source": [
    "# Probability distributions"
   ]
  },
  {
   "cell_type": "code",
   "execution_count": null,
   "metadata": {},
   "outputs": [],
   "source": [
    "x = np.arange(start=-10, stop=10, step=0.001)\n",
    "plt.plot(x, st.norm.pdf(x))  # normal PDF\n",
    "\n",
    "x = np.arange(start=0, stop=10, step=0.001)\n",
    "plt.plot(x, st.expon.pdf(x))  # exponential PDF, power law\n",
    "\n",
    "x = np.arange(start=0, stop=10, step=0.001)\n",
    "plt.plot(x, st.binom.pmf(x, 10, 0.5))  # binomial PMF (mass function), x, n, p\n",
    "\n",
    "x = np.arange(start=400, stop=600, step=0.5)\n",
    "plt.plot(x, st.poisson.pmf(x, 500)) # Poisson dist, use case: A website gets average 500 visits/day. What is probability of getting 550?\n",
    "\n"
   ]
  },
  {
   "cell_type": "markdown",
   "metadata": {},
   "source": [
    "# Moments"
   ]
  },
  {
   "cell_type": "code",
   "execution_count": null,
   "metadata": {},
   "outputs": [],
   "source": [
    "x = np.random.normal(0, 0.5, 10000)\n",
    "np.mean(x) # first moment\n",
    "np.var(x) # second moment\n",
    "st.skew(x) # third moment\n",
    "st.kurtosis(x) # fourth moment"
   ]
  }
 ],
 "metadata": {
  "interpreter": {
   "hash": "916dbcbb3f70747c44a77c7bcd40155683ae19c65e1c03b4aa3499c5328201f1"
  },
  "kernelspec": {
   "display_name": "Python 3.8.10 64-bit",
   "language": "python",
   "name": "python3"
  },
  "language_info": {
   "codemirror_mode": {
    "name": "ipython",
    "version": 3
   },
   "file_extension": ".py",
   "mimetype": "text/x-python",
   "name": "python",
   "nbconvert_exporter": "python",
   "pygments_lexer": "ipython3",
   "version": "3.8.10"
  },
  "orig_nbformat": 4
 },
 "nbformat": 4,
 "nbformat_minor": 2
}
